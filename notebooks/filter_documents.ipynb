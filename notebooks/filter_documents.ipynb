{
 "cells": [
  {
   "cell_type": "markdown",
   "source": [
    "## Wikisum-ptbr dataset characterization"
   ],
   "metadata": {}
  },
  {
   "cell_type": "markdown",
   "source": [
    "### 1. Read documents and summaries"
   ],
   "metadata": {}
  },
  {
   "cell_type": "code",
   "execution_count": 1,
   "source": [
    "path_web = '../../data/brwac_ref_urls_sentences_mongodb_v2/'\n",
    "path_wiki = '../../data/wikipedia_articles_json/'\n",
    "file_names = ['AA/processed_wiki_{:02d}.json'.format(i) for i in range(57)] + ['AA/processed_wiki_{:02d}.json'.format(i) for i in range(61,67)] + ['AA/processed_wiki_75.json']"
   ],
   "outputs": [],
   "metadata": {}
  },
  {
   "cell_type": "code",
   "execution_count": 2,
   "source": [
    "import json\n",
    "from nltk import word_tokenize\n",
    "\n",
    "n_documents_per_example = []\n",
    "n_words_per_input = []\n",
    "n_words_per_output = []\n",
    "n_examples_per_n_documents = [0 for i in range(16)]\n",
    "i = 0\n",
    "for file_name in file_names:\n",
    "    print('{}/{}'.format(i, len(file_names)))\n",
    "    with open(path_web + file_name, 'r') as input_file:\n",
    "        with open(path_wiki + file_name, 'r') as output_file:\n",
    "            for input_line in input_file:\n",
    "                output_line = output_file.readline()\n",
    "                input_content = json.loads(input_line)\n",
    "                output_content = json.loads(output_line)\n",
    "                urls = input_content['brwac_urls']\n",
    "                n_documents = len(urls)\n",
    "                n_documents_per_example.append(n_documents)\n",
    "                n_words = 0\n",
    "                #print('Artigo {}'.format(input_content['wiki_title']))\n",
    "                for url in urls:\n",
    "                    n_words = n_words + len(urls[url].split(' '))\n",
    "                    #print(url)\n",
    "                n_words_per_input.append(n_words)\n",
    "                wiki_lead = output_content['text'][0]\n",
    "                n_words_per_output.append(len(wiki_lead.split(' ')))\n",
    "                n_examples_per_n_documents[n_documents] = n_examples_per_n_documents[n_documents] + 1\n",
    "    i = i + 1\n",
    "\n"
   ],
   "outputs": [
    {
     "output_type": "stream",
     "name": "stdout",
     "text": [
      "0/64\n",
      "1/64\n",
      "2/64\n",
      "3/64\n",
      "4/64\n",
      "5/64\n",
      "6/64\n",
      "7/64\n",
      "8/64\n",
      "9/64\n",
      "10/64\n",
      "11/64\n",
      "12/64\n",
      "13/64\n",
      "14/64\n",
      "15/64\n",
      "16/64\n",
      "17/64\n",
      "18/64\n",
      "19/64\n",
      "20/64\n",
      "21/64\n",
      "22/64\n",
      "23/64\n",
      "24/64\n",
      "25/64\n",
      "26/64\n",
      "27/64\n",
      "28/64\n",
      "29/64\n",
      "30/64\n",
      "31/64\n",
      "32/64\n",
      "33/64\n",
      "34/64\n",
      "35/64\n",
      "36/64\n",
      "37/64\n",
      "38/64\n",
      "39/64\n",
      "40/64\n",
      "41/64\n",
      "42/64\n",
      "43/64\n",
      "44/64\n",
      "45/64\n",
      "46/64\n",
      "47/64\n",
      "48/64\n",
      "49/64\n",
      "50/64\n",
      "51/64\n",
      "52/64\n",
      "53/64\n",
      "54/64\n",
      "55/64\n",
      "56/64\n",
      "57/64\n",
      "58/64\n",
      "59/64\n",
      "60/64\n",
      "61/64\n",
      "62/64\n",
      "63/64\n"
     ]
    }
   ],
   "metadata": {}
  },
  {
   "cell_type": "code",
   "execution_count": 3,
   "source": [
    "print(n_examples_per_n_documents)\n",
    "n_examples = 0\n",
    "for qtd in n_examples_per_n_documents[1:]:\n",
    "    n_examples = n_examples + qtd\n",
    "print(n_examples)"
   ],
   "outputs": [
    {
     "output_type": "stream",
     "name": "stdout",
     "text": [
      "[93017, 6456, 17781, 2117, 10194, 1138, 7409, 810, 5693, 592, 4530, 489, 3723, 413, 1819, 79710]\n",
      "142874\n"
     ]
    }
   ],
   "metadata": {}
  },
  {
   "cell_type": "code",
   "execution_count": 4,
   "source": [
    "# filter dataset (n_words for input and output)\n",
    "filtered_indexes = [i for i in range(len(n_words_per_output)) if n_words_per_input[i] > 1000 and n_words_per_output[i] > 20]\n",
    "filtered_n_words_per_input = [n_words_per_input[i] for i in range(len(n_words_per_output)) if n_words_per_input[i] > 1000 and n_words_per_output[i] > 20]\n",
    "filtered_n_words_per_output = [n_words_per_output[i] for i in range(len(n_words_per_output)) if n_words_per_input[i] > 1000 and n_words_per_output[i] > 20]\n",
    "filtered_n_documents_per_example = [n_documents_per_example[i] for i in range(len(n_documents_per_example)) if n_words_per_input[i] > 1000 and n_words_per_output[i] > 20]\n"
   ],
   "outputs": [],
   "metadata": {}
  },
  {
   "cell_type": "code",
   "execution_count": 5,
   "source": [
    "import matplotlib.pyplot as plt\n",
    "import numpy as np\n",
    "from matplotlib.ticker import PercentFormatter\n",
    "\n",
    "plt.hist(filtered_n_words_per_input, weights=np.ones(len(filtered_n_words_per_input)) / len(filtered_n_words_per_input), range=(0, 500000))\n",
    "plt.suptitle('Histograma do tamanho das paginas da internet (em número de palavras).')\n",
    "plt.gca().yaxis.set_major_formatter(PercentFormatter(1))\n",
    "plt.show()\n",
    "\n",
    "plt.hist(filtered_n_words_per_output,weights=np.ones(len(filtered_n_words_per_output)) / len(filtered_n_words_per_output), range=(0, 1250))\n",
    "plt.gca().yaxis.set_major_formatter(PercentFormatter(1))\n",
    "plt.suptitle('Histograma do tamanho dos leads do Wikipédia (em número de palavras).')\n",
    "plt.show()\n"
   ],
   "outputs": [
    {
     "output_type": "display_data",
     "data": {
      "text/plain": [
       "<Figure size 432x288 with 1 Axes>"
      ],
      "image/png": "[encoded data removed]"
     },
     "metadata": {
      "needs_background": "light"
     }
    },
    {
     "output_type": "display_data",
     "data": {
      "text/plain": [
       "<Figure size 432x288 with 1 Axes>"
      ],
      "image/png": "[encoded data removed]"
     },
     "metadata": {
      "needs_background": "light"
     }
    }
   ],
   "metadata": {}
  },
  {
   "cell_type": "code",
   "execution_count": 6,
   "source": [
    "# percentile analysis\n",
    "step = int(len(filtered_n_words_per_input)/9)\n",
    "percentiles = ['{}%'.format(i) for i in range(10, 101, 10)]\n",
    "filtered_n_words_per_input.sort()\n",
    "filtered_n_words_per_output.sort()\n",
    "filtered_n_documents_per_example.sort()\n",
    "n_words_per_input_percentiles = [filtered_n_words_per_input[i] for i in range(0, len(filtered_n_words_per_input)-1, step)]\n",
    "n_words_per_output_percentiles = [filtered_n_words_per_output[i] for i in range(0, len(filtered_n_words_per_output)-1, step)]\n",
    "n_documents_per_example_percentiles = [filtered_n_documents_per_example[i] for i in range(0, len(filtered_n_documents_per_example)-1, step)]\n",
    "\n",
    "print(percentiles) \n",
    "print(n_words_per_input_percentiles)\n",
    "print(n_words_per_output_percentiles)\n",
    "print(n_documents_per_example_percentiles)\n",
    "print(len(filtered_n_words_per_input))"
   ],
   "outputs": [
    {
     "output_type": "stream",
     "name": "stdout",
     "text": [
      "['0%', '10%', '20%', '30%', '40%', '50%', '60%', '70%', '80%', '90%', '100%']\n",
      "[1001, 8033, 15059, 24210, 36340, 53424, 77475, 114777, 183980, 1268802]\n",
      "[21, 30, 40, 49, 64, 86, 117, 168, 266, 3846]\n",
      "[1, 2, 4, 8, 15, 15, 15, 15, 15, 15]\n",
      "119483\n"
     ]
    }
   ],
   "metadata": {}
  },
  {
   "cell_type": "code",
   "execution_count": 11,
   "source": [
    "from codecs import open\n",
    "import re\n",
    "\n",
    "# generate filtered dataset, remove clones from input\n",
    "def detect_clone(text, article_sections):\n",
    "    text_tokens = text.split(' ')\n",
    "    for section in article_sections:\n",
    "        section_tokens = section.split(' ')\n",
    "        if(len(section_tokens) > 0):\n",
    "            #print(list(section_unigrams))\n",
    "            count_intersection = len(set(section_tokens) & set(text_tokens))\n",
    "            clone_prob = float(count_intersection)/len(section_tokens)\n",
    "            #print(count_intersection, len(section_tokens), len(text_tokens), clone_prob)\n",
    "            #print(clone_prob)\n",
    "            if(clone_prob > 0.5):\n",
    "                #print(section, text)\n",
    "                return True\n",
    "    return False\n",
    "\n",
    "def split_sentences(docs, max_len):\n",
    "    to_out_docs = []\n",
    "    for doc in docs:\n",
    "        tokens = doc.split(' ')\n",
    "        if len(tokens) > max_len:\n",
    "            i = 0\n",
    "            sub_doc = ''\n",
    "            n_tokens = 0\n",
    "            for sentence in doc.split('.'):\n",
    "                n_tokens = n_tokens + len(word_tokenize(sentence))\n",
    "                if(n_tokens > max_len):\n",
    "                    break\n",
    "                sub_doc = sub_doc + sentence\n",
    "            to_out_docs.append(sub_doc)\n",
    "        elif (len(tokens) > 5): # at least 5 tokens in 1 sentence\n",
    "            to_out_docs.append(doc)\n",
    "    return to_out_docs\n",
    "\n",
    "def preprocess_text(p):\n",
    "    p = re.sub(r\"([?.!,¿])\", r\" \\1 \", p)\n",
    "    p = re.sub(r'[\" \"]+', \" \", p)\n",
    "    # substituir tudo por espaço exceto (a-z, A-Z, \".\", \"?\", \"!\", \",\", letras com acentos da lingua pt)\n",
    "    p = re.sub(r\"[^a-zA-ZçÇèéêíáâãõôóúûÉÊÍÁÂÃÕÔÓÚÛöüäëï0-9.?!:,()]+\", \" \", p).lower()\n",
    "    return p\n"
   ],
   "outputs": [
    {
     "output_type": "stream",
     "name": "stdout",
     "text": [
      "0/64\n",
      "1/64\n",
      "2/64\n",
      "3/64\n",
      "4/64\n",
      "5/64\n",
      "6/64\n",
      "7/64\n",
      "8/64\n",
      "9/64\n",
      "10/64\n",
      "11/64\n",
      "12/64\n",
      "13/64\n",
      "14/64\n",
      "15/64\n",
      "16/64\n",
      "17/64\n",
      "18/64\n",
      "19/64\n",
      "20/64\n",
      "21/64\n",
      "22/64\n",
      "23/64\n",
      "24/64\n",
      "25/64\n",
      "26/64\n",
      "27/64\n",
      "28/64\n",
      "29/64\n",
      "30/64\n",
      "31/64\n",
      "32/64\n",
      "33/64\n",
      "34/64\n",
      "35/64\n",
      "36/64\n",
      "37/64\n",
      "38/64\n",
      "39/64\n",
      "40/64\n",
      "41/64\n",
      "42/64\n",
      "43/64\n",
      "44/64\n",
      "45/64\n",
      "46/64\n",
      "47/64\n",
      "48/64\n",
      "49/64\n",
      "50/64\n",
      "51/64\n",
      "52/64\n",
      "53/64\n",
      "54/64\n",
      "55/64\n",
      "56/64\n",
      "57/64\n",
      "58/64\n",
      "59/64\n",
      "60/64\n",
      "61/64\n",
      "62/64\n",
      "63/64\n"
     ]
    },
    {
     "output_type": "error",
     "ename": "IndexError",
     "evalue": "list index out of range",
     "traceback": [
      "\u001b[0;31m---------------------------------------------------------------------------\u001b[0m",
      "\u001b[0;31mIndexError\u001b[0m                                Traceback (most recent call last)",
      "\u001b[0;32m<ipython-input-11-73df9d244579>\u001b[0m in \u001b[0;36m<module>\u001b[0;34m\u001b[0m\n\u001b[1;32m     55\u001b[0m                         \u001b[0;32mfor\u001b[0m \u001b[0minput_line\u001b[0m \u001b[0;32min\u001b[0m \u001b[0minput_file\u001b[0m\u001b[0;34m:\u001b[0m\u001b[0;34m\u001b[0m\u001b[0;34m\u001b[0m\u001b[0m\n\u001b[1;32m     56\u001b[0m                             \u001b[0moutput_line\u001b[0m \u001b[0;34m=\u001b[0m \u001b[0moutput_file\u001b[0m\u001b[0;34m.\u001b[0m\u001b[0mreadline\u001b[0m\u001b[0;34m(\u001b[0m\u001b[0;34m)\u001b[0m\u001b[0;34m\u001b[0m\u001b[0;34m\u001b[0m\u001b[0m\n\u001b[0;32m---> 57\u001b[0;31m                             \u001b[0;32mif\u001b[0m\u001b[0;34m(\u001b[0m\u001b[0mi\u001b[0m \u001b[0;34m==\u001b[0m \u001b[0mfiltered_indexes\u001b[0m\u001b[0;34m[\u001b[0m\u001b[0mj\u001b[0m\u001b[0;34m]\u001b[0m\u001b[0;34m)\u001b[0m\u001b[0;34m:\u001b[0m\u001b[0;34m\u001b[0m\u001b[0;34m\u001b[0m\u001b[0m\n\u001b[0m\u001b[1;32m     58\u001b[0m                                 \u001b[0minput_content\u001b[0m \u001b[0;34m=\u001b[0m \u001b[0mjson\u001b[0m\u001b[0;34m.\u001b[0m\u001b[0mloads\u001b[0m\u001b[0;34m(\u001b[0m\u001b[0minput_line\u001b[0m\u001b[0;34m)\u001b[0m\u001b[0;34m\u001b[0m\u001b[0;34m\u001b[0m\u001b[0m\n\u001b[1;32m     59\u001b[0m                                 \u001b[0moutput_content\u001b[0m \u001b[0;34m=\u001b[0m \u001b[0mjson\u001b[0m\u001b[0;34m.\u001b[0m\u001b[0mloads\u001b[0m\u001b[0;34m(\u001b[0m\u001b[0moutput_line\u001b[0m\u001b[0;34m)\u001b[0m\u001b[0;34m\u001b[0m\u001b[0;34m\u001b[0m\u001b[0m\n",
      "\u001b[0;31mIndexError\u001b[0m: list index out of range"
     ]
    }
   ],
   "metadata": {}
  },
  {
   "cell_type": "code",
   "execution_count": null,
   "source": [
    "\n",
    "i = 0\n",
    "j = 0\n",
    "k = 0\n",
    "with open('../../data/wikisum_ptbr/input_with_punc.csv', 'wb') as dataset_input_file:\n",
    "    with open('../../data/wikisum_ptbr/output_with_punc.csv', 'wb') as dataset_output_file:\n",
    "        with open('../../data/wikisum_ptbr/docids_with_punc.json', 'wb') as dataset_docids_file:\n",
    "            for file_name in file_names:\n",
    "                print('{}/{}'.format(k, len(file_names)))\n",
    "                with open(path_web + file_name, 'rb') as input_file:\n",
    "                    with open(path_wiki + file_name, 'rb') as output_file:\n",
    "                        for input_line in input_file:\n",
    "                            output_line = output_file.readline()\n",
    "                            if(i == filtered_indexes[j]):\n",
    "                                input_content = json.loads(input_line)\n",
    "                                output_content = json.loads(output_line)\n",
    "                                full_input = input_content['wiki_title'].lower() + \" </s> \"\n",
    "                                full_input_size = 0\n",
    "                                docids = []\n",
    "                                wiki_text = preprocess_text(output_content['text'][0].replace('\\n', '')) + '\\n'\n",
    "                                #print('oi')\n",
    "                                #print(wiki_text)\n",
    "                                for url in input_content['brwac_urls']:\n",
    "                                    if(detect_clone(input_content['brwac_urls'][url], [wiki_text]) == False):\n",
    "                                        docids.append(url)\n",
    "                                        for sentence in split_sentences(input_content['brwac_urls'][url].split('\\n'), 100):\n",
    "                                            full_input = full_input + sentence + ' <\\s> '\n",
    "                                            full_input_size = full_input_size + len(sentence.split(' '))\n",
    "                                full_input = full_input + '\\n'\n",
    "                                if(full_input_size >= 1000):\n",
    "                                    dataset_input_file.write(full_input.encode('utf-8'))\n",
    "                                    dataset_output_file.write(wiki_text.encode('utf-8'))\n",
    "                                    docids_dict = {'wiki_id' : output_content['id'], 'wiki_title' : output_content['title'], 'docids' : docids}\n",
    "                                    dataset_docids_file.write('{}\\n'.format(json.dumps(docids_dict, ensure_ascii=False)).encode('utf-8'))\n",
    "                                j = j + 1\n",
    "                            i = i + 1\n",
    "                k = k + 1"
   ],
   "outputs": [],
   "metadata": {}
  },
  {
   "cell_type": "code",
   "execution_count": null,
   "source": [],
   "outputs": [],
   "metadata": {}
  }
 ],
 "metadata": {
  "kernelspec": {
   "display_name": "Python 3",
   "language": "python",
   "name": "python3"
  },
  "language_info": {
   "codemirror_mode": {
    "name": "ipython",
    "version": 3
   },
   "file_extension": ".py",
   "mimetype": "text/x-python",
   "name": "python",
   "nbconvert_exporter": "python",
   "pygments_lexer": "ipython3",
   "version": "3.8.10"
  }
 },
 "nbformat": 4,
 "nbformat_minor": 4
}