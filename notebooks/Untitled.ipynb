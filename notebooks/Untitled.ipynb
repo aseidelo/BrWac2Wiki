{
 "cells": [
  {
   "cell_type": "code",
   "execution_count": 6,
   "id": "96f95f12-b1b5-4274-8f3b-51dab72bbcdd",
   "metadata": {},
   "outputs": [
    {
     "data": {
      "text/html": [
       "<div>\n",
       "<style scoped>\n",
       "    .dataframe tbody tr th:only-of-type {\n",
       "        vertical-align: middle;\n",
       "    }\n",
       "\n",
       "    .dataframe tbody tr th {\n",
       "        vertical-align: top;\n",
       "    }\n",
       "\n",
       "    .dataframe thead th {\n",
       "        text-align: right;\n",
       "    }\n",
       "</style>\n",
       "<table border=\"1\" class=\"dataframe\">\n",
       "  <thead>\n",
       "    <tr style=\"text-align: right;\">\n",
       "      <th></th>\n",
       "      <th>Unnamed: 0</th>\n",
       "      <th>document</th>\n",
       "      <th>predicted_summary</th>\n",
       "      <th>summary</th>\n",
       "      <th>title</th>\n",
       "    </tr>\n",
       "  </thead>\n",
       "  <tbody>\n",
       "    <tr>\n",
       "      <th>0</th>\n",
       "      <td>0</td>\n",
       "      <td>summarize: Anno Domini &lt;/s&gt;  penas - de prisão...</td>\n",
       "      <td>anno Domini é uma comuna italiana da região da...</td>\n",
       "      <td>anno domini (a . d . ) é uma expressão em lati...</td>\n",
       "      <td>Anno Domini</td>\n",
       "    </tr>\n",
       "    <tr>\n",
       "      <th>1</th>\n",
       "      <td>1</td>\n",
       "      <td>summarize: Algoritmo &lt;/s&gt;  mais o que é um alg...</td>\n",
       "      <td>um algoritmo é uma forma organizada de express...</td>\n",
       "      <td>em matemática e ciência da computação , um alg...</td>\n",
       "      <td>Algoritmo</td>\n",
       "    </tr>\n",
       "    <tr>\n",
       "      <th>2</th>\n",
       "      <td>2</td>\n",
       "      <td>summarize: Ambrósio &lt;/s&gt;  alessandra ambrósio ...</td>\n",
       "      <td>ambrósio de milão (trèves, 4 de abril de 397) ...</td>\n",
       "      <td>aurélio ambrósio ( ca . 340 mediolano , 4 de a...</td>\n",
       "      <td>Ambrósio</td>\n",
       "    </tr>\n",
       "    <tr>\n",
       "      <th>3</th>\n",
       "      <td>3</td>\n",
       "      <td>summarize: América do Norte &lt;/s&gt;  américa do n...</td>\n",
       "      <td>a américa do norte (em inglês: américa norte )...</td>\n",
       "      <td>a américa do norte é um subcontinente que comp...</td>\n",
       "      <td>América do Norte</td>\n",
       "    </tr>\n",
       "    <tr>\n",
       "      <th>4</th>\n",
       "      <td>4</td>\n",
       "      <td>summarize: Ateísmo &lt;/s&gt;  e uma definição corre...</td>\n",
       "      <td>o ateísmo é uma doutrina filosófica que nega a...</td>\n",
       "      <td>ateísmo , num sentido amplo , é a ausência de ...</td>\n",
       "      <td>Ateísmo</td>\n",
       "    </tr>\n",
       "  </tbody>\n",
       "</table>\n",
       "</div>"
      ],
      "text/plain": [
       "   Unnamed: 0                                           document  \\\n",
       "0           0  summarize: Anno Domini </s>  penas - de prisão...   \n",
       "1           1  summarize: Algoritmo </s>  mais o que é um alg...   \n",
       "2           2  summarize: Ambrósio </s>  alessandra ambrósio ...   \n",
       "3           3  summarize: América do Norte </s>  américa do n...   \n",
       "4           4  summarize: Ateísmo </s>  e uma definição corre...   \n",
       "\n",
       "                                   predicted_summary  \\\n",
       "0  anno Domini é uma comuna italiana da região da...   \n",
       "1  um algoritmo é uma forma organizada de express...   \n",
       "2  ambrósio de milão (trèves, 4 de abril de 397) ...   \n",
       "3  a américa do norte (em inglês: américa norte )...   \n",
       "4  o ateísmo é uma doutrina filosófica que nega a...   \n",
       "\n",
       "                                             summary             title  \n",
       "0  anno domini (a . d . ) é uma expressão em lati...       Anno Domini  \n",
       "1  em matemática e ciência da computação , um alg...         Algoritmo  \n",
       "2  aurélio ambrósio ( ca . 340 mediolano , 4 de a...          Ambrósio  \n",
       "3  a américa do norte é um subcontinente que comp...  América do Norte  \n",
       "4  ateísmo , num sentido amplo , é a ausência de ...           Ateísmo  "
      ]
     },
     "execution_count": 6,
     "metadata": {},
     "output_type": "execute_result"
    }
   ],
   "source": [
    "import pandas as pd\n",
    "\n",
    "test_summaries_df = pd.read_csv(\"../../results/summaries_ptt5_768in_tfidf_testset_with_punc.csv\")\n",
    "test_summaries_df.head()"
   ]
  },
  {
   "cell_type": "code",
   "execution_count": 21,
   "id": "11d369b2-66f6-4ab4-89a8-3e6437e92218",
   "metadata": {},
   "outputs": [],
   "source": [
    "from rouge_score import rouge_scorer\n",
    "\n",
    "scorer = rouge_scorer.RougeScorer(['rouge1', 'rouge2', 'rougeL'])\n",
    "predicted = test_summaries_df[\"predicted_summary\"]\n",
    "target = test_summaries_df[\"summary\"]\n",
    "document = test_summaries_df[\"document\"]\n",
    "rouge1 = []\n",
    "rouge2 = []\n",
    "rougel = []\n",
    "in_size = []\n",
    "target_size = []\n",
    "predict_size = []\n",
    "for i in range(len(target)):\n",
    "    scores = scorer.score(target[i], predicted[i])\n",
    "    #print(i, scores)\n",
    "    rouge1.append(scores['rouge1'].fmeasure)\n",
    "    rouge2.append(scores['rouge2'].fmeasure)\n",
    "    rougel.append(scores['rougeL'].fmeasure)\n",
    "    in_size.append(len(document[i].split(\" \")))\n",
    "    target_size.append(len(target[i].split(\" \")))\n",
    "    predict_size.append(len(predicted[i].split(\" \")))\n"
   ]
  },
  {
   "cell_type": "code",
   "execution_count": 22,
   "id": "a4f3c7a4-ba00-4581-b910-292bc58681f5",
   "metadata": {},
   "outputs": [],
   "source": [
    "test_summaries_df['rouge1'] = rouge1\n",
    "test_summaries_df['rouge2'] = rouge2\n",
    "test_summaries_df['rougel'] = rougel\n",
    "test_summaries_df['input_size'] = in_size\n",
    "test_summaries_df['predict_size'] = predict_size\n",
    "test_summaries_df['target_size'] = target_size\n"
   ]
  },
  {
   "cell_type": "code",
   "execution_count": 23,
   "id": "cc4f7e72-f088-452a-9fb7-0d63cfc6f842",
   "metadata": {},
   "outputs": [],
   "source": [
    "test_summaries_df.to_csv(\"../../results/summaries_and_rouges.csv\")"
   ]
  },
  {
   "cell_type": "code",
   "execution_count": 19,
   "id": "0c8c0eb4-03f0-4e3b-957c-e720377707ba",
   "metadata": {},
   "outputs": [
    {
     "name": "stdout",
     "output_type": "stream",
     "text": [
      "0.008196721311475409 0.9496402877697843\n"
     ]
    }
   ],
   "source": [
    "print(min(test_summaries_df['rougel']), max(test_summaries_df['rougel']))"
   ]
  },
  {
   "cell_type": "code",
   "execution_count": null,
   "id": "94d26c6b-e726-4cf9-bc08-c280582eec92",
   "metadata": {},
   "outputs": [],
   "source": []
  }
 ],
 "metadata": {
  "kernelspec": {
   "display_name": "nlpenv",
   "language": "python",
   "name": "nlpenv"
  },
  "language_info": {
   "codemirror_mode": {
    "name": "ipython",
    "version": 3
   },
   "file_extension": ".py",
   "mimetype": "text/x-python",
   "name": "python",
   "nbconvert_exporter": "python",
   "pygments_lexer": "ipython3",
   "version": "3.8.10"
  }
 },
 "nbformat": 4,
 "nbformat_minor": 5
}
